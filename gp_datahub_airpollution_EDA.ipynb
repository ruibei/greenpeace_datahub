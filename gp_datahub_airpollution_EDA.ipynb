{
 "cells": [
  {
   "cell_type": "code",
   "execution_count": 1,
   "metadata": {},
   "outputs": [],
   "source": [
    "import pymysql.cursors # for load data from MySQL\n",
    "\n",
    "import time\n",
    "\n",
    "import pandas as pd\n",
    "import numpy as np\n",
    "import re\n",
    "import csv\n",
    "import geocoder"
   ]
  },
  {
   "cell_type": "markdown",
   "metadata": {},
   "source": [
    "## Load data from MySQL"
   ]
  },
  {
   "cell_type": "code",
   "execution_count": 31,
   "metadata": {},
   "outputs": [],
   "source": [
    "# Connect to the database\n",
    "connection = pymysql.connect(host='',\n",
    "                             user='',\n",
    "                             password='',\n",
    "                             db='',\n",
    "                             charset='',\n",
    "                             cursorclass=pymysql.cursors.DictCursor)\n",
    "\n",
    "# try:\n",
    "#     with connection.cursor() as cursor:\n",
    "#         # Create a new record\n",
    "#         query = \"SHOW TABLES\"\n",
    "#         cursor.execute(query)\n",
    "#         result = cursor.fetchone()\n",
    "#         print(result)\n",
    "\n",
    "#     # connection is not autocommit by default. So you must commit to save\n",
    "#     # your changes.\n",
    "#     connection.commit()\n",
    "\n",
    "#     with connection.cursor() as cursor:\n",
    "#         # Read a single record\n",
    "#         query = \"SELECT * FROM \"\n",
    "#         cursor.execute(query)\n",
    "#         result = cursor.fetchone()\n",
    "#         print(result)\n",
    "# finally:\n",
    "#     connection.close()"
   ]
  },
  {
   "cell_type": "code",
   "execution_count": 32,
   "metadata": {},
   "outputs": [
    {
     "name": "stdout",
     "output_type": "stream",
     "text": [
      "[{'Tables_in_greenpeacedatahub': 'air_pollution_2013'}, {'Tables_in_greenpeacedatahub': 'air_pollution_2014'}, {'Tables_in_greenpeacedatahub': 'air_pollution_2015'}, {'Tables_in_greenpeacedatahub': 'bj_dangerous_chemicals_production_authorized_enterprise'}, {'Tables_in_greenpeacedatahub': 'dangerous_chemicals_production_license'}, {'Tables_in_greenpeacedatahub': 'detox_hebei_2014'}, {'Tables_in_greenpeacedatahub': 'detox_hebei_2016'}, {'Tables_in_greenpeacedatahub': 'detox_hebei_enterprise_2015'}, {'Tables_in_greenpeacedatahub': 'detox_hebei_enterprise_2016'}, {'Tables_in_greenpeacedatahub': 'detox_hebei_enterprise_2016_plus'}, {'Tables_in_greenpeacedatahub': 'detox_hebei_enterprise_2016_seasonly_production'}, {'Tables_in_greenpeacedatahub': 'detox_hebei_enterprise_2017'}, {'Tables_in_greenpeacedatahub': 'detox_hebei_enterprise_2017_fqsite'}, {'Tables_in_greenpeacedatahub': 'detox_hebei_enterprise_2017_fssite'}, {'Tables_in_greenpeacedatahub': 'detox_hebei_enterprise_2017_plus'}, {'Tables_in_greenpeacedatahub': 'detox_jiangsu_2014'}, {'Tables_in_greenpeacedatahub': 'detox_jiangsu_2015'}, {'Tables_in_greenpeacedatahub': 'detox_jiangsu_2016'}, {'Tables_in_greenpeacedatahub': 'detox_shandong_2014'}, {'Tables_in_greenpeacedatahub': 'detox_shanghai_2014'}, {'Tables_in_greenpeacedatahub': 'detox_tianjin_2014'}, {'Tables_in_greenpeacedatahub': 'detox_zhejiang_2014'}, {'Tables_in_greenpeacedatahub': 'enterprise_dangerous_chemical_shengqing2'}, {'Tables_in_greenpeacedatahub': 'enterprise_env_assess_chemical_shenqing4'}, {'Tables_in_greenpeacedatahub': 'enterprise_info'}, {'Tables_in_greenpeacedatahub': 'enterprise_info_lianyungang_chemical_industry_park'}, {'Tables_in_greenpeacedatahub': 'hazardous_chemicals_business_license'}, {'Tables_in_greenpeacedatahub': 'hebei_enterprise_2017'}, {'Tables_in_greenpeacedatahub': 'hebei_gas'}, {'Tables_in_greenpeacedatahub': 'hebei_gas_2016'}, {'Tables_in_greenpeacedatahub': 'hebei_gas_2017'}, {'Tables_in_greenpeacedatahub': 'hebei_pollution_source_companies'}, {'Tables_in_greenpeacedatahub': 'hebei_pollution_source_points'}, {'Tables_in_greenpeacedatahub': 'pm25'}, {'Tables_in_greenpeacedatahub': 'site'}, {'Tables_in_greenpeacedatahub': 'three_coastal_chemical_zone_county_marked'}]\n"
     ]
    }
   ],
   "source": [
    "with connection.cursor() as cursor:\n",
    "    query = \"SHOW TABLES\"\n",
    "    cursor.execute(query)\n",
    "    result = cursor.fetchall()\n",
    "    print(result)"
   ]
  },
  {
   "cell_type": "code",
   "execution_count": 11,
   "metadata": {},
   "outputs": [],
   "source": [
    "def table_to_pandas(conn, table_name):\n",
    "    with conn.cursor() as cursor:\n",
    "        query = \"SELECT * FROM {}\".format(table_name)\n",
    "        cursor.execute(query)\n",
    "        result = cursor.fetchall()\n",
    "    return pd.DataFrame(result)"
   ]
  },
  {
   "cell_type": "code",
   "execution_count": null,
   "metadata": {
    "collapsed": true
   },
   "outputs": [],
   "source": [
    "air_pollution = dict()\n",
    "\n",
    "for table in ['air_pollution_2013', 'air_pollution_2014', 'air_pollution_2015']:\n",
    "    print(table)\n",
    "    air_pollution[table] = table_to_pandas(conn=connection, table_name=table)"
   ]
  },
  {
   "cell_type": "markdown",
   "metadata": {},
   "source": [
    "## Load data from local"
   ]
  },
  {
   "cell_type": "code",
   "execution_count": 2,
   "metadata": {},
   "outputs": [],
   "source": [
    "ap_2013 = pd.read_csv('./tables/air_pollution_2013.csv')"
   ]
  },
  {
   "cell_type": "code",
   "execution_count": 5,
   "metadata": {
    "collapsed": true
   },
   "outputs": [],
   "source": [
    "ap_2014 = pd.read_csv('./tables/PM25_20160101_2014only.csv')"
   ]
  },
  {
   "cell_type": "code",
   "execution_count": null,
   "metadata": {
    "collapsed": true
   },
   "outputs": [],
   "source": [
    "ap_2015 = pd.read_csv('./tables/PM25_20160101_2014only.csv')"
   ]
  },
  {
   "cell_type": "markdown",
   "metadata": {},
   "source": [
    "## (1) Dataset = ap_2013 "
   ]
  },
  {
   "cell_type": "markdown",
   "metadata": {},
   "source": [
    "### Data Mining and Cleaning"
   ]
  },
  {
   "cell_type": "code",
   "execution_count": 3,
   "metadata": {},
   "outputs": [
    {
     "data": {
      "text/plain": [
       "(26735, 5)"
      ]
     },
     "execution_count": 3,
     "metadata": {},
     "output_type": "execute_result"
    }
   ],
   "source": [
    "ap_2013.shape"
   ]
  },
  {
   "cell_type": "code",
   "execution_count": 4,
   "metadata": {},
   "outputs": [
    {
     "data": {
      "text/html": [
       "<div>\n",
       "<style scoped>\n",
       "    .dataframe tbody tr th:only-of-type {\n",
       "        vertical-align: middle;\n",
       "    }\n",
       "\n",
       "    .dataframe tbody tr th {\n",
       "        vertical-align: top;\n",
       "    }\n",
       "\n",
       "    .dataframe thead th {\n",
       "        text-align: right;\n",
       "    }\n",
       "</style>\n",
       "<table border=\"1\" class=\"dataframe\">\n",
       "  <thead>\n",
       "    <tr style=\"text-align: right;\">\n",
       "      <th></th>\n",
       "      <th>Unnamed: 0</th>\n",
       "      <th>city</th>\n",
       "      <th>id</th>\n",
       "      <th>pm25</th>\n",
       "      <th>update_time</th>\n",
       "    </tr>\n",
       "  </thead>\n",
       "  <tbody>\n",
       "    <tr>\n",
       "      <th>0</th>\n",
       "      <td>0</td>\n",
       "      <td>﻿中山</td>\n",
       "      <td>1</td>\n",
       "      <td>NaN</td>\n",
       "      <td>2013-01-01  00:00:00\\n</td>\n",
       "    </tr>\n",
       "    <tr>\n",
       "      <th>1</th>\n",
       "      <td>1</td>\n",
       "      <td>中山</td>\n",
       "      <td>2</td>\n",
       "      <td>NaN</td>\n",
       "      <td>2013-01-02  00:00:00\\n</td>\n",
       "    </tr>\n",
       "    <tr>\n",
       "      <th>2</th>\n",
       "      <td>2</td>\n",
       "      <td>中山</td>\n",
       "      <td>3</td>\n",
       "      <td>NaN</td>\n",
       "      <td>2013-01-03  00:00:00\\n</td>\n",
       "    </tr>\n",
       "    <tr>\n",
       "      <th>3</th>\n",
       "      <td>3</td>\n",
       "      <td>中山</td>\n",
       "      <td>4</td>\n",
       "      <td>NaN</td>\n",
       "      <td>2013-01-04  00:00:00\\n</td>\n",
       "    </tr>\n",
       "    <tr>\n",
       "      <th>4</th>\n",
       "      <td>4</td>\n",
       "      <td>中山</td>\n",
       "      <td>5</td>\n",
       "      <td>NaN</td>\n",
       "      <td>2013-01-05  00:00:00\\n</td>\n",
       "    </tr>\n",
       "  </tbody>\n",
       "</table>\n",
       "</div>"
      ],
      "text/plain": [
       "   Unnamed: 0 city  id  pm25             update_time\n",
       "0           0  ﻿中山   1   NaN  2013-01-01  00:00:00\\n\n",
       "1           1   中山   2   NaN  2013-01-02  00:00:00\\n\n",
       "2           2   中山   3   NaN  2013-01-03  00:00:00\\n\n",
       "3           3   中山   4   NaN  2013-01-04  00:00:00\\n\n",
       "4           4   中山   5   NaN  2013-01-05  00:00:00\\n"
      ]
     },
     "execution_count": 4,
     "metadata": {},
     "output_type": "execute_result"
    }
   ],
   "source": [
    "ap_2013.head(5)"
   ]
  },
  {
   "cell_type": "code",
   "execution_count": 5,
   "metadata": {},
   "outputs": [
    {
     "data": {
      "text/plain": [
       "75"
      ]
     },
     "execution_count": 5,
     "metadata": {},
     "output_type": "execute_result"
    }
   ],
   "source": [
    "len(list(set(ap_2013['city'])))"
   ]
  },
  {
   "cell_type": "markdown",
   "metadata": {},
   "source": [
    "* update_time"
   ]
  },
  {
   "cell_type": "code",
   "execution_count": 6,
   "metadata": {},
   "outputs": [],
   "source": [
    "ap_2013['update_time'] = pd.to_datetime(ap_2013['update_time'].apply(lambda x: x.strip()))"
   ]
  },
  {
   "cell_type": "code",
   "execution_count": 59,
   "metadata": {},
   "outputs": [],
   "source": [
    "# import datetime\n",
    "\n",
    "# to_datetime = lambda x: datetime.datetime.strptime(x.strip(), \n",
    "#                                                    '%Y-%m-%d  %H:%M:%S')\n",
    "\n",
    "# ap_2013_tmp['update_time'] = pd.to_datetime(ap_2013_tmp['update_time'].apply(to_datetime))"
   ]
  },
  {
   "cell_type": "markdown",
   "metadata": {},
   "source": [
    "* city\n",
    "\n",
    "strip whitespaces from **city**"
   ]
  },
  {
   "cell_type": "code",
   "execution_count": 7,
   "metadata": {},
   "outputs": [],
   "source": [
    "ap_2013['city'] = ap_2013.city.map(lambda x: re.findall(r'[\\u4e00-\\u9fff]+', x)[0])"
   ]
  },
  {
   "cell_type": "markdown",
   "metadata": {},
   "source": [
    "create new column lat and lng of city"
   ]
  },
  {
   "cell_type": "code",
   "execution_count": 14,
   "metadata": {},
   "outputs": [],
   "source": [
    "# city_latlng = list()\n",
    "\n",
    "# for x in list(set(ap_2013['city'])):\n",
    "#     row = dict()\n",
    "#     row['city'] = x\n",
    "#     row['lat'], row['lng'] = geocoder.google(x).latlng\n",
    "#     city_latlng.append(row)\n",
    "#     time.sleep(0)"
   ]
  },
  {
   "cell_type": "code",
   "execution_count": 16,
   "metadata": {},
   "outputs": [],
   "source": [
    "# with open('./data/city_latlng.csv', 'w') as f:  \n",
    "#     w = csv.DictWriter(f, city_latlng[0].keys())\n",
    "#     w.writeheader()\n",
    "#     for row in city_latlng:\n",
    "#         w.writerow(row)"
   ]
  },
  {
   "cell_type": "code",
   "execution_count": 17,
   "metadata": {},
   "outputs": [],
   "source": [
    "# df_city_latlng = pd.DataFrame(city_latlng)"
   ]
  },
  {
   "cell_type": "code",
   "execution_count": 18,
   "metadata": {},
   "outputs": [],
   "source": [
    "df_city_latlng = pd.read_csv('./data/city_latlng.csv')"
   ]
  },
  {
   "cell_type": "code",
   "execution_count": 19,
   "metadata": {},
   "outputs": [],
   "source": [
    "ap_2013_new = pd.merge(ap_2013, df_city_latlng, how='left', on=['city'])"
   ]
  },
  {
   "cell_type": "markdown",
   "metadata": {},
   "source": [
    "### EDA"
   ]
  },
  {
   "cell_type": "code",
   "execution_count": 111,
   "metadata": {},
   "outputs": [
    {
     "data": {
      "text/html": [
       "\n",
       "    <div class=\"bk-root\">\n",
       "        <a href=\"https://bokeh.pydata.org\" target=\"_blank\" class=\"bk-logo bk-logo-small bk-logo-notebook\"></a>\n",
       "        <span id=\"e3cd0901-9335-4eee-894d-6d7cb25194ef\">Loading BokehJS ...</span>\n",
       "    </div>"
      ]
     },
     "metadata": {},
     "output_type": "display_data"
    },
    {
     "data": {
      "application/javascript": [
       "\n",
       "(function(root) {\n",
       "  function now() {\n",
       "    return new Date();\n",
       "  }\n",
       "\n",
       "  var force = true;\n",
       "\n",
       "  if (typeof (root._bokeh_onload_callbacks) === \"undefined\" || force === true) {\n",
       "    root._bokeh_onload_callbacks = [];\n",
       "    root._bokeh_is_loading = undefined;\n",
       "  }\n",
       "\n",
       "  var JS_MIME_TYPE = 'application/javascript';\n",
       "  var HTML_MIME_TYPE = 'text/html';\n",
       "  var EXEC_MIME_TYPE = 'application/vnd.bokehjs_exec.v0+json';\n",
       "  var CLASS_NAME = 'output_bokeh rendered_html';\n",
       "\n",
       "  /**\n",
       "   * Render data to the DOM node\n",
       "   */\n",
       "  function render(props, node) {\n",
       "    var script = document.createElement(\"script\");\n",
       "    node.appendChild(script);\n",
       "  }\n",
       "\n",
       "  /**\n",
       "   * Handle when an output is cleared or removed\n",
       "   */\n",
       "  function handleClearOutput(event, handle) {\n",
       "    var cell = handle.cell;\n",
       "\n",
       "    var id = cell.output_area._bokeh_element_id;\n",
       "    var server_id = cell.output_area._bokeh_server_id;\n",
       "    // Clean up Bokeh references\n",
       "    if (id !== undefined) {\n",
       "      Bokeh.index[id].model.document.clear();\n",
       "      delete Bokeh.index[id];\n",
       "    }\n",
       "\n",
       "    if (server_id !== undefined) {\n",
       "      // Clean up Bokeh references\n",
       "      var cmd = \"from bokeh.io.state import curstate; print(curstate().uuid_to_server['\" + server_id + \"'].get_sessions()[0].document.roots[0]._id)\";\n",
       "      cell.notebook.kernel.execute(cmd, {\n",
       "        iopub: {\n",
       "          output: function(msg) {\n",
       "            var element_id = msg.content.text.trim();\n",
       "            Bokeh.index[element_id].model.document.clear();\n",
       "            delete Bokeh.index[element_id];\n",
       "          }\n",
       "        }\n",
       "      });\n",
       "      // Destroy server and session\n",
       "      var cmd = \"import bokeh.io.notebook as ion; ion.destroy_server('\" + server_id + \"')\";\n",
       "      cell.notebook.kernel.execute(cmd);\n",
       "    }\n",
       "  }\n",
       "\n",
       "  /**\n",
       "   * Handle when a new output is added\n",
       "   */\n",
       "  function handleAddOutput(event, handle) {\n",
       "    var output_area = handle.output_area;\n",
       "    var output = handle.output;\n",
       "\n",
       "    // limit handleAddOutput to display_data with EXEC_MIME_TYPE content only\n",
       "    if ((output.output_type != \"display_data\") || (!output.data.hasOwnProperty(EXEC_MIME_TYPE))) {\n",
       "      return\n",
       "    }\n",
       "\n",
       "    var toinsert = output_area.element.find(\".\" + CLASS_NAME.split(' ')[0]);\n",
       "\n",
       "    if (output.metadata[EXEC_MIME_TYPE][\"id\"] !== undefined) {\n",
       "      toinsert[0].firstChild.textContent = output.data[JS_MIME_TYPE];\n",
       "      // store reference to embed id on output_area\n",
       "      output_area._bokeh_element_id = output.metadata[EXEC_MIME_TYPE][\"id\"];\n",
       "    }\n",
       "    if (output.metadata[EXEC_MIME_TYPE][\"server_id\"] !== undefined) {\n",
       "      var bk_div = document.createElement(\"div\");\n",
       "      bk_div.innerHTML = output.data[HTML_MIME_TYPE];\n",
       "      var script_attrs = bk_div.children[0].attributes;\n",
       "      for (var i = 0; i < script_attrs.length; i++) {\n",
       "        toinsert[0].firstChild.setAttribute(script_attrs[i].name, script_attrs[i].value);\n",
       "      }\n",
       "      // store reference to server id on output_area\n",
       "      output_area._bokeh_server_id = output.metadata[EXEC_MIME_TYPE][\"server_id\"];\n",
       "    }\n",
       "  }\n",
       "\n",
       "  function register_renderer(events, OutputArea) {\n",
       "\n",
       "    function append_mime(data, metadata, element) {\n",
       "      // create a DOM node to render to\n",
       "      var toinsert = this.create_output_subarea(\n",
       "        metadata,\n",
       "        CLASS_NAME,\n",
       "        EXEC_MIME_TYPE\n",
       "      );\n",
       "      this.keyboard_manager.register_events(toinsert);\n",
       "      // Render to node\n",
       "      var props = {data: data, metadata: metadata[EXEC_MIME_TYPE]};\n",
       "      render(props, toinsert[0]);\n",
       "      element.append(toinsert);\n",
       "      return toinsert\n",
       "    }\n",
       "\n",
       "    /* Handle when an output is cleared or removed */\n",
       "    events.on('clear_output.CodeCell', handleClearOutput);\n",
       "    events.on('delete.Cell', handleClearOutput);\n",
       "\n",
       "    /* Handle when a new output is added */\n",
       "    events.on('output_added.OutputArea', handleAddOutput);\n",
       "\n",
       "    /**\n",
       "     * Register the mime type and append_mime function with output_area\n",
       "     */\n",
       "    OutputArea.prototype.register_mime_type(EXEC_MIME_TYPE, append_mime, {\n",
       "      /* Is output safe? */\n",
       "      safe: true,\n",
       "      /* Index of renderer in `output_area.display_order` */\n",
       "      index: 0\n",
       "    });\n",
       "  }\n",
       "\n",
       "  // register the mime type if in Jupyter Notebook environment and previously unregistered\n",
       "  if (root.Jupyter !== undefined) {\n",
       "    var events = require('base/js/events');\n",
       "    var OutputArea = require('notebook/js/outputarea').OutputArea;\n",
       "\n",
       "    if (OutputArea.prototype.mime_types().indexOf(EXEC_MIME_TYPE) == -1) {\n",
       "      register_renderer(events, OutputArea);\n",
       "    }\n",
       "  }\n",
       "\n",
       "  \n",
       "  if (typeof (root._bokeh_timeout) === \"undefined\" || force === true) {\n",
       "    root._bokeh_timeout = Date.now() + 5000;\n",
       "    root._bokeh_failed_load = false;\n",
       "  }\n",
       "\n",
       "  var NB_LOAD_WARNING = {'data': {'text/html':\n",
       "     \"<div style='background-color: #fdd'>\\n\"+\n",
       "     \"<p>\\n\"+\n",
       "     \"BokehJS does not appear to have successfully loaded. If loading BokehJS from CDN, this \\n\"+\n",
       "     \"may be due to a slow or bad network connection. Possible fixes:\\n\"+\n",
       "     \"</p>\\n\"+\n",
       "     \"<ul>\\n\"+\n",
       "     \"<li>re-rerun `output_notebook()` to attempt to load from CDN again, or</li>\\n\"+\n",
       "     \"<li>use INLINE resources instead, as so:</li>\\n\"+\n",
       "     \"</ul>\\n\"+\n",
       "     \"<code>\\n\"+\n",
       "     \"from bokeh.resources import INLINE\\n\"+\n",
       "     \"output_notebook(resources=INLINE)\\n\"+\n",
       "     \"</code>\\n\"+\n",
       "     \"</div>\"}};\n",
       "\n",
       "  function display_loaded() {\n",
       "    var el = document.getElementById(\"e3cd0901-9335-4eee-894d-6d7cb25194ef\");\n",
       "    if (el != null) {\n",
       "      el.textContent = \"BokehJS is loading...\";\n",
       "    }\n",
       "    if (root.Bokeh !== undefined) {\n",
       "      if (el != null) {\n",
       "        el.textContent = \"BokehJS \" + root.Bokeh.version + \" successfully loaded.\";\n",
       "      }\n",
       "    } else if (Date.now() < root._bokeh_timeout) {\n",
       "      setTimeout(display_loaded, 100)\n",
       "    }\n",
       "  }\n",
       "\n",
       "\n",
       "  function run_callbacks() {\n",
       "    try {\n",
       "      root._bokeh_onload_callbacks.forEach(function(callback) { callback() });\n",
       "    }\n",
       "    finally {\n",
       "      delete root._bokeh_onload_callbacks\n",
       "    }\n",
       "    console.info(\"Bokeh: all callbacks have finished\");\n",
       "  }\n",
       "\n",
       "  function load_libs(js_urls, callback) {\n",
       "    root._bokeh_onload_callbacks.push(callback);\n",
       "    if (root._bokeh_is_loading > 0) {\n",
       "      console.log(\"Bokeh: BokehJS is being loaded, scheduling callback at\", now());\n",
       "      return null;\n",
       "    }\n",
       "    if (js_urls == null || js_urls.length === 0) {\n",
       "      run_callbacks();\n",
       "      return null;\n",
       "    }\n",
       "    console.log(\"Bokeh: BokehJS not loaded, scheduling load and callback at\", now());\n",
       "    root._bokeh_is_loading = js_urls.length;\n",
       "    for (var i = 0; i < js_urls.length; i++) {\n",
       "      var url = js_urls[i];\n",
       "      var s = document.createElement('script');\n",
       "      s.src = url;\n",
       "      s.async = false;\n",
       "      s.onreadystatechange = s.onload = function() {\n",
       "        root._bokeh_is_loading--;\n",
       "        if (root._bokeh_is_loading === 0) {\n",
       "          console.log(\"Bokeh: all BokehJS libraries loaded\");\n",
       "          run_callbacks()\n",
       "        }\n",
       "      };\n",
       "      s.onerror = function() {\n",
       "        console.warn(\"failed to load library \" + url);\n",
       "      };\n",
       "      console.log(\"Bokeh: injecting script tag for BokehJS library: \", url);\n",
       "      document.getElementsByTagName(\"head\")[0].appendChild(s);\n",
       "    }\n",
       "  };var element = document.getElementById(\"e3cd0901-9335-4eee-894d-6d7cb25194ef\");\n",
       "  if (element == null) {\n",
       "    console.log(\"Bokeh: ERROR: autoload.js configured with elementid 'e3cd0901-9335-4eee-894d-6d7cb25194ef' but no matching script tag was found. \")\n",
       "    return false;\n",
       "  }\n",
       "\n",
       "  var js_urls = [\"https://cdn.pydata.org/bokeh/release/bokeh-0.12.13.min.js\", \"https://cdn.pydata.org/bokeh/release/bokeh-widgets-0.12.13.min.js\", \"https://cdn.pydata.org/bokeh/release/bokeh-tables-0.12.13.min.js\", \"https://cdn.pydata.org/bokeh/release/bokeh-gl-0.12.13.min.js\"];\n",
       "\n",
       "  var inline_js = [\n",
       "    function(Bokeh) {\n",
       "      Bokeh.set_log_level(\"info\");\n",
       "    },\n",
       "    \n",
       "    function(Bokeh) {\n",
       "      \n",
       "    },\n",
       "    function(Bokeh) {\n",
       "      console.log(\"Bokeh: injecting CSS: https://cdn.pydata.org/bokeh/release/bokeh-0.12.13.min.css\");\n",
       "      Bokeh.embed.inject_css(\"https://cdn.pydata.org/bokeh/release/bokeh-0.12.13.min.css\");\n",
       "      console.log(\"Bokeh: injecting CSS: https://cdn.pydata.org/bokeh/release/bokeh-widgets-0.12.13.min.css\");\n",
       "      Bokeh.embed.inject_css(\"https://cdn.pydata.org/bokeh/release/bokeh-widgets-0.12.13.min.css\");\n",
       "      console.log(\"Bokeh: injecting CSS: https://cdn.pydata.org/bokeh/release/bokeh-tables-0.12.13.min.css\");\n",
       "      Bokeh.embed.inject_css(\"https://cdn.pydata.org/bokeh/release/bokeh-tables-0.12.13.min.css\");\n",
       "    }\n",
       "  ];\n",
       "\n",
       "  function run_inline_js() {\n",
       "    \n",
       "    if ((root.Bokeh !== undefined) || (force === true)) {\n",
       "      for (var i = 0; i < inline_js.length; i++) {\n",
       "        inline_js[i].call(root, root.Bokeh);\n",
       "      }if (force === true) {\n",
       "        display_loaded();\n",
       "      }} else if (Date.now() < root._bokeh_timeout) {\n",
       "      setTimeout(run_inline_js, 100);\n",
       "    } else if (!root._bokeh_failed_load) {\n",
       "      console.log(\"Bokeh: BokehJS failed to load within specified timeout.\");\n",
       "      root._bokeh_failed_load = true;\n",
       "    } else if (force !== true) {\n",
       "      var cell = $(document.getElementById(\"e3cd0901-9335-4eee-894d-6d7cb25194ef\")).parents('.cell').data().cell;\n",
       "      cell.output_area.append_execute_result(NB_LOAD_WARNING)\n",
       "    }\n",
       "\n",
       "  }\n",
       "\n",
       "  if (root._bokeh_is_loading === 0) {\n",
       "    console.log(\"Bokeh: BokehJS loaded, going straight to plotting\");\n",
       "    run_inline_js();\n",
       "  } else {\n",
       "    load_libs(js_urls, function() {\n",
       "      console.log(\"Bokeh: BokehJS plotting callback run at\", now());\n",
       "      run_inline_js();\n",
       "    });\n",
       "  }\n",
       "}(window));"
      ],
      "application/vnd.bokehjs_load.v0+json": "\n(function(root) {\n  function now() {\n    return new Date();\n  }\n\n  var force = true;\n\n  if (typeof (root._bokeh_onload_callbacks) === \"undefined\" || force === true) {\n    root._bokeh_onload_callbacks = [];\n    root._bokeh_is_loading = undefined;\n  }\n\n  \n\n  \n  if (typeof (root._bokeh_timeout) === \"undefined\" || force === true) {\n    root._bokeh_timeout = Date.now() + 5000;\n    root._bokeh_failed_load = false;\n  }\n\n  var NB_LOAD_WARNING = {'data': {'text/html':\n     \"<div style='background-color: #fdd'>\\n\"+\n     \"<p>\\n\"+\n     \"BokehJS does not appear to have successfully loaded. If loading BokehJS from CDN, this \\n\"+\n     \"may be due to a slow or bad network connection. Possible fixes:\\n\"+\n     \"</p>\\n\"+\n     \"<ul>\\n\"+\n     \"<li>re-rerun `output_notebook()` to attempt to load from CDN again, or</li>\\n\"+\n     \"<li>use INLINE resources instead, as so:</li>\\n\"+\n     \"</ul>\\n\"+\n     \"<code>\\n\"+\n     \"from bokeh.resources import INLINE\\n\"+\n     \"output_notebook(resources=INLINE)\\n\"+\n     \"</code>\\n\"+\n     \"</div>\"}};\n\n  function display_loaded() {\n    var el = document.getElementById(\"e3cd0901-9335-4eee-894d-6d7cb25194ef\");\n    if (el != null) {\n      el.textContent = \"BokehJS is loading...\";\n    }\n    if (root.Bokeh !== undefined) {\n      if (el != null) {\n        el.textContent = \"BokehJS \" + root.Bokeh.version + \" successfully loaded.\";\n      }\n    } else if (Date.now() < root._bokeh_timeout) {\n      setTimeout(display_loaded, 100)\n    }\n  }\n\n\n  function run_callbacks() {\n    try {\n      root._bokeh_onload_callbacks.forEach(function(callback) { callback() });\n    }\n    finally {\n      delete root._bokeh_onload_callbacks\n    }\n    console.info(\"Bokeh: all callbacks have finished\");\n  }\n\n  function load_libs(js_urls, callback) {\n    root._bokeh_onload_callbacks.push(callback);\n    if (root._bokeh_is_loading > 0) {\n      console.log(\"Bokeh: BokehJS is being loaded, scheduling callback at\", now());\n      return null;\n    }\n    if (js_urls == null || js_urls.length === 0) {\n      run_callbacks();\n      return null;\n    }\n    console.log(\"Bokeh: BokehJS not loaded, scheduling load and callback at\", now());\n    root._bokeh_is_loading = js_urls.length;\n    for (var i = 0; i < js_urls.length; i++) {\n      var url = js_urls[i];\n      var s = document.createElement('script');\n      s.src = url;\n      s.async = false;\n      s.onreadystatechange = s.onload = function() {\n        root._bokeh_is_loading--;\n        if (root._bokeh_is_loading === 0) {\n          console.log(\"Bokeh: all BokehJS libraries loaded\");\n          run_callbacks()\n        }\n      };\n      s.onerror = function() {\n        console.warn(\"failed to load library \" + url);\n      };\n      console.log(\"Bokeh: injecting script tag for BokehJS library: \", url);\n      document.getElementsByTagName(\"head\")[0].appendChild(s);\n    }\n  };var element = document.getElementById(\"e3cd0901-9335-4eee-894d-6d7cb25194ef\");\n  if (element == null) {\n    console.log(\"Bokeh: ERROR: autoload.js configured with elementid 'e3cd0901-9335-4eee-894d-6d7cb25194ef' but no matching script tag was found. \")\n    return false;\n  }\n\n  var js_urls = [\"https://cdn.pydata.org/bokeh/release/bokeh-0.12.13.min.js\", \"https://cdn.pydata.org/bokeh/release/bokeh-widgets-0.12.13.min.js\", \"https://cdn.pydata.org/bokeh/release/bokeh-tables-0.12.13.min.js\", \"https://cdn.pydata.org/bokeh/release/bokeh-gl-0.12.13.min.js\"];\n\n  var inline_js = [\n    function(Bokeh) {\n      Bokeh.set_log_level(\"info\");\n    },\n    \n    function(Bokeh) {\n      \n    },\n    function(Bokeh) {\n      console.log(\"Bokeh: injecting CSS: https://cdn.pydata.org/bokeh/release/bokeh-0.12.13.min.css\");\n      Bokeh.embed.inject_css(\"https://cdn.pydata.org/bokeh/release/bokeh-0.12.13.min.css\");\n      console.log(\"Bokeh: injecting CSS: https://cdn.pydata.org/bokeh/release/bokeh-widgets-0.12.13.min.css\");\n      Bokeh.embed.inject_css(\"https://cdn.pydata.org/bokeh/release/bokeh-widgets-0.12.13.min.css\");\n      console.log(\"Bokeh: injecting CSS: https://cdn.pydata.org/bokeh/release/bokeh-tables-0.12.13.min.css\");\n      Bokeh.embed.inject_css(\"https://cdn.pydata.org/bokeh/release/bokeh-tables-0.12.13.min.css\");\n    }\n  ];\n\n  function run_inline_js() {\n    \n    if ((root.Bokeh !== undefined) || (force === true)) {\n      for (var i = 0; i < inline_js.length; i++) {\n        inline_js[i].call(root, root.Bokeh);\n      }if (force === true) {\n        display_loaded();\n      }} else if (Date.now() < root._bokeh_timeout) {\n      setTimeout(run_inline_js, 100);\n    } else if (!root._bokeh_failed_load) {\n      console.log(\"Bokeh: BokehJS failed to load within specified timeout.\");\n      root._bokeh_failed_load = true;\n    } else if (force !== true) {\n      var cell = $(document.getElementById(\"e3cd0901-9335-4eee-894d-6d7cb25194ef\")).parents('.cell').data().cell;\n      cell.output_area.append_execute_result(NB_LOAD_WARNING)\n    }\n\n  }\n\n  if (root._bokeh_is_loading === 0) {\n    console.log(\"Bokeh: BokehJS loaded, going straight to plotting\");\n    run_inline_js();\n  } else {\n    load_libs(js_urls, function() {\n      console.log(\"Bokeh: BokehJS plotting callback run at\", now());\n      run_inline_js();\n    });\n  }\n}(window));"
     },
     "metadata": {},
     "output_type": "display_data"
    }
   ],
   "source": [
    "from bokeh.plotting import figure, show\n",
    "from bokeh.io import output_notebook\n",
    "from bokeh.models import ColumnDataSource\n",
    "output_notebook()"
   ]
  },
  {
   "cell_type": "code",
   "execution_count": 112,
   "metadata": {},
   "outputs": [],
   "source": [
    "from bokeh.layouts import row, widgetbox\n",
    "from bokeh.models import Select\n",
    "#from bokeh.charts import Histogram\n",
    "from bokeh.io import show\n",
    "from bokeh.application.handlers import FunctionHandler\n",
    "from bokeh.application import Application"
   ]
  },
  {
   "cell_type": "code",
   "execution_count": 191,
   "metadata": {},
   "outputs": [
    {
     "data": {
      "text/html": [
       "<script>requirejs.config({paths: { 'plotly': ['https://cdn.plot.ly/plotly-latest.min']},});if(!window.Plotly) {{require(['plotly'],function(plotly) {window.Plotly=plotly;});}}</script>"
      ],
      "text/vnd.plotly.v1+html": [
       "<script>requirejs.config({paths: { 'plotly': ['https://cdn.plot.ly/plotly-latest.min']},});if(!window.Plotly) {{require(['plotly'],function(plotly) {window.Plotly=plotly;});}}</script>"
      ]
     },
     "metadata": {},
     "output_type": "display_data"
    }
   ],
   "source": [
    "import plotly.plotly as py\n",
    "from plotly.graph_objs import Scatter, Figure, Layout\n",
    "from plotly.offline import download_plotlyjs, init_notebook_mode, plot, iplot\n",
    "\n",
    "init_notebook_mode(connected=True)"
   ]
  },
  {
   "cell_type": "code",
   "execution_count": 192,
   "metadata": {},
   "outputs": [
    {
     "name": "stderr",
     "output_type": "stream",
     "text": [
      "/usr/local/lib/python3.6/site-packages/matplotlib/font_manager.py:281: UserWarning:\n",
      "\n",
      "Matplotlib is building the font cache using fc-list. This may take a moment.\n",
      "\n"
     ]
    }
   ],
   "source": [
    "import seaborn as sns"
   ]
  },
  {
   "cell_type": "markdown",
   "metadata": {},
   "source": [
    "* Sample: Beijing daily PM 2.5 levels and analysis"
   ]
  },
  {
   "cell_type": "code",
   "execution_count": 106,
   "metadata": {},
   "outputs": [
    {
     "data": {
      "text/plain": [
       "count    355.000000\n",
       "mean      90.101408\n",
       "std       76.131546\n",
       "min        6.000000\n",
       "25%       37.000000\n",
       "50%       68.000000\n",
       "75%      124.000000\n",
       "max      646.000000\n",
       "Name: pm25, dtype: float64"
      ]
     },
     "execution_count": 106,
     "metadata": {},
     "output_type": "execute_result"
    }
   ],
   "source": [
    "ap_2013[ap_2013_new['city'] == '北京']['pm25'].describe()"
   ]
  },
  {
   "cell_type": "code",
   "execution_count": 113,
   "metadata": {},
   "outputs": [
    {
     "data": {
      "text/html": [
       "<div style=\"display: table;\"><div style=\"display: table-row;\"><div style=\"display: table-cell;\"><b title=\"bokeh.models.renderers.GlyphRenderer\">GlyphRenderer</b>(</div><div style=\"display: table-cell;\">id&nbsp;=&nbsp;'ccd61e2e-3e35-4865-8e14-755d93906147', <span id=\"937e2465-a0ea-44ae-b5c7-3a8c0a3c3bec\" style=\"cursor: pointer;\">&hellip;)</span></div></div><div class=\"af1b85d4-e526-4958-a317-aaa3b781b7d9\" style=\"display: none;\"><div style=\"display: table-cell;\"></div><div style=\"display: table-cell;\">data_source&nbsp;=&nbsp;ColumnDataSource(id='310138b4-db35-440c-9fd3-3843ce0e2bf8', ...),</div></div><div class=\"af1b85d4-e526-4958-a317-aaa3b781b7d9\" style=\"display: none;\"><div style=\"display: table-cell;\"></div><div style=\"display: table-cell;\">glyph&nbsp;=&nbsp;Line(id='aa08db3a-e36f-4843-b21a-c23bf1cb962a', ...),</div></div><div class=\"af1b85d4-e526-4958-a317-aaa3b781b7d9\" style=\"display: none;\"><div style=\"display: table-cell;\"></div><div style=\"display: table-cell;\">hover_glyph&nbsp;=&nbsp;None,</div></div><div class=\"af1b85d4-e526-4958-a317-aaa3b781b7d9\" style=\"display: none;\"><div style=\"display: table-cell;\"></div><div style=\"display: table-cell;\">js_event_callbacks&nbsp;=&nbsp;{},</div></div><div class=\"af1b85d4-e526-4958-a317-aaa3b781b7d9\" style=\"display: none;\"><div style=\"display: table-cell;\"></div><div style=\"display: table-cell;\">js_property_callbacks&nbsp;=&nbsp;{},</div></div><div class=\"af1b85d4-e526-4958-a317-aaa3b781b7d9\" style=\"display: none;\"><div style=\"display: table-cell;\"></div><div style=\"display: table-cell;\">level&nbsp;=&nbsp;'glyph',</div></div><div class=\"af1b85d4-e526-4958-a317-aaa3b781b7d9\" style=\"display: none;\"><div style=\"display: table-cell;\"></div><div style=\"display: table-cell;\">muted&nbsp;=&nbsp;False,</div></div><div class=\"af1b85d4-e526-4958-a317-aaa3b781b7d9\" style=\"display: none;\"><div style=\"display: table-cell;\"></div><div style=\"display: table-cell;\">muted_glyph&nbsp;=&nbsp;None,</div></div><div class=\"af1b85d4-e526-4958-a317-aaa3b781b7d9\" style=\"display: none;\"><div style=\"display: table-cell;\"></div><div style=\"display: table-cell;\">name&nbsp;=&nbsp;None,</div></div><div class=\"af1b85d4-e526-4958-a317-aaa3b781b7d9\" style=\"display: none;\"><div style=\"display: table-cell;\"></div><div style=\"display: table-cell;\">nonselection_glyph&nbsp;=&nbsp;Line(id='1f9e7c30-8d7c-495f-9d10-23327a76d7c7', ...),</div></div><div class=\"af1b85d4-e526-4958-a317-aaa3b781b7d9\" style=\"display: none;\"><div style=\"display: table-cell;\"></div><div style=\"display: table-cell;\">selection_glyph&nbsp;=&nbsp;None,</div></div><div class=\"af1b85d4-e526-4958-a317-aaa3b781b7d9\" style=\"display: none;\"><div style=\"display: table-cell;\"></div><div style=\"display: table-cell;\">subscribed_events&nbsp;=&nbsp;[],</div></div><div class=\"af1b85d4-e526-4958-a317-aaa3b781b7d9\" style=\"display: none;\"><div style=\"display: table-cell;\"></div><div style=\"display: table-cell;\">tags&nbsp;=&nbsp;[],</div></div><div class=\"af1b85d4-e526-4958-a317-aaa3b781b7d9\" style=\"display: none;\"><div style=\"display: table-cell;\"></div><div style=\"display: table-cell;\">view&nbsp;=&nbsp;CDSView(id='4abecd2b-c12e-469a-99f5-189e375af15a', ...),</div></div><div class=\"af1b85d4-e526-4958-a317-aaa3b781b7d9\" style=\"display: none;\"><div style=\"display: table-cell;\"></div><div style=\"display: table-cell;\">visible&nbsp;=&nbsp;True,</div></div><div class=\"af1b85d4-e526-4958-a317-aaa3b781b7d9\" style=\"display: none;\"><div style=\"display: table-cell;\"></div><div style=\"display: table-cell;\">x_range_name&nbsp;=&nbsp;'default',</div></div><div class=\"af1b85d4-e526-4958-a317-aaa3b781b7d9\" style=\"display: none;\"><div style=\"display: table-cell;\"></div><div style=\"display: table-cell;\">y_range_name&nbsp;=&nbsp;'default')</div></div></div>\n",
       "<script>\n",
       "(function() {\n",
       "  var expanded = false;\n",
       "  var ellipsis = document.getElementById(\"937e2465-a0ea-44ae-b5c7-3a8c0a3c3bec\");\n",
       "  ellipsis.addEventListener(\"click\", function() {\n",
       "    var rows = document.getElementsByClassName(\"af1b85d4-e526-4958-a317-aaa3b781b7d9\");\n",
       "    for (var i = 0; i < rows.length; i++) {\n",
       "      var el = rows[i];\n",
       "      el.style.display = expanded ? \"none\" : \"table-row\";\n",
       "    }\n",
       "    ellipsis.innerHTML = expanded ? \"&hellip;)\" : \"&lsaquo;&lsaquo;&lsaquo;\";\n",
       "    expanded = !expanded;\n",
       "  });\n",
       "})();\n",
       "</script>\n"
      ],
      "text/plain": [
       "GlyphRenderer(id='ccd61e2e-3e35-4865-8e14-755d93906147', ...)"
      ]
     },
     "execution_count": 113,
     "metadata": {},
     "output_type": "execute_result"
    }
   ],
   "source": [
    "p1 = figure(x_axis_type=\"datetime\", title=\"Beijing Daily PM 2.5 Levels 2013\")\n",
    "p1.grid.grid_line_alpha=0.3\n",
    "p1.xaxis.axis_label = 'Date'\n",
    "p1.yaxis.axis_label = 'PM 2.5'\n",
    "\n",
    "p1.line(ap_2013[ap_2013_new['city'] == '北京']['update_time'], ap_2013[ap_2013_new['city'] == '北京']['pm25'])"
   ]
  },
  {
   "cell_type": "code",
   "execution_count": 114,
   "metadata": {},
   "outputs": [
    {
     "data": {
      "text/html": [
       "\n",
       "<div class=\"bk-root\">\n",
       "    <div class=\"bk-plotdiv\" id=\"1b18c70b-ab6a-4c4e-b54a-91754bdba825\"></div>\n",
       "</div>"
      ]
     },
     "metadata": {},
     "output_type": "display_data"
    },
    {
     "data": {
      "application/javascript": [
       "(function(root) {\n",
       "  function embed_document(root) {\n",
       "    \n",
       "  var docs_json = {\"2dcc8b63-97d5-436f-b4c9-5089ae743c30\":{\"roots\":{\"references\":[{\"attributes\":{\"days\":[1,15]},\"id\":\"493db4e7-d124-4e78-aec0-555809ee66ba\",\"type\":\"DaysTicker\"},{\"attributes\":{\"bottom_units\":\"screen\",\"fill_alpha\":{\"value\":0.5},\"fill_color\":{\"value\":\"lightgrey\"},\"left_units\":\"screen\",\"level\":\"overlay\",\"line_alpha\":{\"value\":1.0},\"line_color\":{\"value\":\"black\"},\"line_dash\":[4,4],\"line_width\":{\"value\":2},\"plot\":null,\"render_mode\":\"css\",\"right_units\":\"screen\",\"top_units\":\"screen\"},\"id\":\"51d264b7-f189-4334-ab9c-0f37c574f1bd\",\"type\":\"BoxAnnotation\"},{\"attributes\":{\"line_alpha\":0.1,\"line_color\":\"#1f77b4\",\"x\":{\"field\":\"x\"},\"y\":{\"field\":\"y\"}},\"id\":\"1f9e7c30-8d7c-495f-9d10-23327a76d7c7\",\"type\":\"Line\"},{\"attributes\":{},\"id\":\"5abf6710-acef-468c-be3f-0c84835a9a56\",\"type\":\"PanTool\"},{\"attributes\":{\"months\":[0,4,8]},\"id\":\"26feff59-b5e7-4e8a-91a0-e8a5b8bbd41e\",\"type\":\"MonthsTicker\"},{\"attributes\":{},\"id\":\"fc8357b2-49b7-4b28-b330-acde6dac6443\",\"type\":\"SaveTool\"},{\"attributes\":{\"overlay\":{\"id\":\"51d264b7-f189-4334-ab9c-0f37c574f1bd\",\"type\":\"BoxAnnotation\"}},\"id\":\"4b0c834a-7916-4b3c-ac0e-f68f574faddf\",\"type\":\"BoxZoomTool\"},{\"attributes\":{\"num_minor_ticks\":5,\"tickers\":[{\"id\":\"5700b037-9c8f-4a78-a130-d94f9afe6346\",\"type\":\"AdaptiveTicker\"},{\"id\":\"adac5924-8878-4a80-946a-e75c66837166\",\"type\":\"AdaptiveTicker\"},{\"id\":\"86b1192d-9be5-4691-98f7-60f71d5e9d0f\",\"type\":\"AdaptiveTicker\"},{\"id\":\"b296d4bb-cf22-450c-81d8-8a2c915ab126\",\"type\":\"DaysTicker\"},{\"id\":\"97389aa3-adeb-4ec9-b9a1-fdd9e303df8f\",\"type\":\"DaysTicker\"},{\"id\":\"482acf6c-4105-459d-a8a8-c6d3b135ca8e\",\"type\":\"DaysTicker\"},{\"id\":\"493db4e7-d124-4e78-aec0-555809ee66ba\",\"type\":\"DaysTicker\"},{\"id\":\"94359cac-94ac-4806-9ad1-5498ae34ffc7\",\"type\":\"MonthsTicker\"},{\"id\":\"e3a3f142-e746-4b80-bce0-94140d769202\",\"type\":\"MonthsTicker\"},{\"id\":\"26feff59-b5e7-4e8a-91a0-e8a5b8bbd41e\",\"type\":\"MonthsTicker\"},{\"id\":\"fc9aefa1-2746-45b2-b437-fdfa4483681e\",\"type\":\"MonthsTicker\"},{\"id\":\"12eecee0-c924-4a8d-b132-064c36807c0b\",\"type\":\"YearsTicker\"}]},\"id\":\"44869327-c996-490c-97e7-28e6dc80d002\",\"type\":\"DatetimeTicker\"},{\"attributes\":{\"callback\":null},\"id\":\"74575bde-261a-43a2-9b2b-90ed48c8b3d0\",\"type\":\"DataRange1d\"},{\"attributes\":{\"callback\":null},\"id\":\"2e5d1092-6a7c-42bf-8714-30729acd043f\",\"type\":\"DataRange1d\"},{\"attributes\":{},\"id\":\"0988f09e-de3b-4d67-a5ad-a01024a7011f\",\"type\":\"LinearScale\"},{\"attributes\":{},\"id\":\"a2a5ac24-db68-4a2a-939f-29fc82fd60ff\",\"type\":\"DatetimeTickFormatter\"},{\"attributes\":{\"months\":[0,1,2,3,4,5,6,7,8,9,10,11]},\"id\":\"94359cac-94ac-4806-9ad1-5498ae34ffc7\",\"type\":\"MonthsTicker\"},{\"attributes\":{},\"id\":\"12eecee0-c924-4a8d-b132-064c36807c0b\",\"type\":\"YearsTicker\"},{\"attributes\":{},\"id\":\"63908577-3cf9-4361-b65d-98322138afd1\",\"type\":\"LinearScale\"},{\"attributes\":{\"dimension\":1,\"grid_line_alpha\":{\"value\":0.3},\"plot\":{\"id\":\"5785da84-ba23-41a8-b91a-13f17ffe8cfd\",\"subtype\":\"Figure\",\"type\":\"Plot\"},\"ticker\":{\"id\":\"e6ffdf55-2f20-46df-98ff-a52b15a53b5b\",\"type\":\"BasicTicker\"}},\"id\":\"470fa0e1-de9e-440f-a6ed-e0176088bca6\",\"type\":\"Grid\"},{\"attributes\":{\"axis_label\":\"Date\",\"formatter\":{\"id\":\"a2a5ac24-db68-4a2a-939f-29fc82fd60ff\",\"type\":\"DatetimeTickFormatter\"},\"plot\":{\"id\":\"5785da84-ba23-41a8-b91a-13f17ffe8cfd\",\"subtype\":\"Figure\",\"type\":\"Plot\"},\"ticker\":{\"id\":\"44869327-c996-490c-97e7-28e6dc80d002\",\"type\":\"DatetimeTicker\"}},\"id\":\"9ae6fc55-a9f0-412a-9c01-07aca4feed81\",\"type\":\"DatetimeAxis\"},{\"attributes\":{\"grid_line_alpha\":{\"value\":0.3},\"plot\":{\"id\":\"5785da84-ba23-41a8-b91a-13f17ffe8cfd\",\"subtype\":\"Figure\",\"type\":\"Plot\"},\"ticker\":{\"id\":\"44869327-c996-490c-97e7-28e6dc80d002\",\"type\":\"DatetimeTicker\"}},\"id\":\"a1dabb17-a83d-4b7c-b6e4-eb617aebcb54\",\"type\":\"Grid\"},{\"attributes\":{},\"id\":\"e89897e4-dab4-4d44-bc03-72e551bf854f\",\"type\":\"BasicTickFormatter\"},{\"attributes\":{},\"id\":\"e6ffdf55-2f20-46df-98ff-a52b15a53b5b\",\"type\":\"BasicTicker\"},{\"attributes\":{},\"id\":\"1ef4ae0c-ffbf-497c-80f0-57e8d78c933a\",\"type\":\"ResetTool\"},{\"attributes\":{\"line_color\":\"#1f77b4\",\"x\":{\"field\":\"x\"},\"y\":{\"field\":\"y\"}},\"id\":\"aa08db3a-e36f-4843-b21a-c23bf1cb962a\",\"type\":\"Line\"},{\"attributes\":{},\"id\":\"0aace64e-4cd8-4049-b4d3-6ae0ab5eb29a\",\"type\":\"HelpTool\"},{\"attributes\":{\"axis_label\":\"PM 2.5\",\"formatter\":{\"id\":\"e89897e4-dab4-4d44-bc03-72e551bf854f\",\"type\":\"BasicTickFormatter\"},\"plot\":{\"id\":\"5785da84-ba23-41a8-b91a-13f17ffe8cfd\",\"subtype\":\"Figure\",\"type\":\"Plot\"},\"ticker\":{\"id\":\"e6ffdf55-2f20-46df-98ff-a52b15a53b5b\",\"type\":\"BasicTicker\"}},\"id\":\"3d269599-b163-45cb-ad64-77513e3dd3ee\",\"type\":\"LinearAxis\"},{\"attributes\":{\"months\":[0,6]},\"id\":\"fc9aefa1-2746-45b2-b437-fdfa4483681e\",\"type\":\"MonthsTicker\"},{\"attributes\":{\"base\":60,\"mantissas\":[1,2,5,10,15,20,30],\"max_interval\":1800000.0,\"min_interval\":1000.0,\"num_minor_ticks\":0},\"id\":\"adac5924-8878-4a80-946a-e75c66837166\",\"type\":\"AdaptiveTicker\"},{\"attributes\":{\"mantissas\":[1,2,5],\"max_interval\":500.0,\"num_minor_ticks\":0},\"id\":\"5700b037-9c8f-4a78-a130-d94f9afe6346\",\"type\":\"AdaptiveTicker\"},{\"attributes\":{\"days\":[1,2,3,4,5,6,7,8,9,10,11,12,13,14,15,16,17,18,19,20,21,22,23,24,25,26,27,28,29,30,31]},\"id\":\"b296d4bb-cf22-450c-81d8-8a2c915ab126\",\"type\":\"DaysTicker\"},{\"attributes\":{\"below\":[{\"id\":\"9ae6fc55-a9f0-412a-9c01-07aca4feed81\",\"type\":\"DatetimeAxis\"}],\"left\":[{\"id\":\"3d269599-b163-45cb-ad64-77513e3dd3ee\",\"type\":\"LinearAxis\"}],\"renderers\":[{\"id\":\"9ae6fc55-a9f0-412a-9c01-07aca4feed81\",\"type\":\"DatetimeAxis\"},{\"id\":\"a1dabb17-a83d-4b7c-b6e4-eb617aebcb54\",\"type\":\"Grid\"},{\"id\":\"3d269599-b163-45cb-ad64-77513e3dd3ee\",\"type\":\"LinearAxis\"},{\"id\":\"470fa0e1-de9e-440f-a6ed-e0176088bca6\",\"type\":\"Grid\"},{\"id\":\"51d264b7-f189-4334-ab9c-0f37c574f1bd\",\"type\":\"BoxAnnotation\"},{\"id\":\"ccd61e2e-3e35-4865-8e14-755d93906147\",\"type\":\"GlyphRenderer\"}],\"title\":{\"id\":\"952a34b5-b0a6-4fcb-a7f0-c32fdfa39ff7\",\"type\":\"Title\"},\"toolbar\":{\"id\":\"ea5fcfb0-1d7d-41c4-b626-41d8af463f79\",\"type\":\"Toolbar\"},\"x_range\":{\"id\":\"2e5d1092-6a7c-42bf-8714-30729acd043f\",\"type\":\"DataRange1d\"},\"x_scale\":{\"id\":\"63908577-3cf9-4361-b65d-98322138afd1\",\"type\":\"LinearScale\"},\"y_range\":{\"id\":\"74575bde-261a-43a2-9b2b-90ed48c8b3d0\",\"type\":\"DataRange1d\"},\"y_scale\":{\"id\":\"0988f09e-de3b-4d67-a5ad-a01024a7011f\",\"type\":\"LinearScale\"}},\"id\":\"5785da84-ba23-41a8-b91a-13f17ffe8cfd\",\"subtype\":\"Figure\",\"type\":\"Plot\"},{\"attributes\":{\"plot\":null,\"text\":\"Beijing Daily PM 2.5 Levels 2013\"},\"id\":\"952a34b5-b0a6-4fcb-a7f0-c32fdfa39ff7\",\"type\":\"Title\"},{\"attributes\":{\"days\":[1,8,15,22]},\"id\":\"482acf6c-4105-459d-a8a8-c6d3b135ca8e\",\"type\":\"DaysTicker\"},{\"attributes\":{\"active_drag\":\"auto\",\"active_inspect\":\"auto\",\"active_scroll\":\"auto\",\"active_tap\":\"auto\",\"tools\":[{\"id\":\"5abf6710-acef-468c-be3f-0c84835a9a56\",\"type\":\"PanTool\"},{\"id\":\"0d87974b-a36f-43e3-bbf5-cb4aed7b1779\",\"type\":\"WheelZoomTool\"},{\"id\":\"4b0c834a-7916-4b3c-ac0e-f68f574faddf\",\"type\":\"BoxZoomTool\"},{\"id\":\"fc8357b2-49b7-4b28-b330-acde6dac6443\",\"type\":\"SaveTool\"},{\"id\":\"1ef4ae0c-ffbf-497c-80f0-57e8d78c933a\",\"type\":\"ResetTool\"},{\"id\":\"0aace64e-4cd8-4049-b4d3-6ae0ab5eb29a\",\"type\":\"HelpTool\"}]},\"id\":\"ea5fcfb0-1d7d-41c4-b626-41d8af463f79\",\"type\":\"Toolbar\"},{\"attributes\":{\"callback\":null,\"column_names\":[\"x\",\"y\"],\"data\":{\"x\":{\"__ndarray__\":\"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\",\"dtype\":\"float64\",\"shape\":[365]},\"y\":{\"__ndarray__\":\"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\",\"dtype\":\"float64\",\"shape\":[365]}}},\"id\":\"310138b4-db35-440c-9fd3-3843ce0e2bf8\",\"type\":\"ColumnDataSource\"},{\"attributes\":{\"base\":24,\"mantissas\":[1,2,4,6,8,12],\"max_interval\":43200000.0,\"min_interval\":3600000.0,\"num_minor_ticks\":0},\"id\":\"86b1192d-9be5-4691-98f7-60f71d5e9d0f\",\"type\":\"AdaptiveTicker\"},{\"attributes\":{},\"id\":\"0d87974b-a36f-43e3-bbf5-cb4aed7b1779\",\"type\":\"WheelZoomTool\"},{\"attributes\":{\"data_source\":{\"id\":\"310138b4-db35-440c-9fd3-3843ce0e2bf8\",\"type\":\"ColumnDataSource\"},\"glyph\":{\"id\":\"aa08db3a-e36f-4843-b21a-c23bf1cb962a\",\"type\":\"Line\"},\"hover_glyph\":null,\"muted_glyph\":null,\"nonselection_glyph\":{\"id\":\"1f9e7c30-8d7c-495f-9d10-23327a76d7c7\",\"type\":\"Line\"},\"selection_glyph\":null,\"view\":{\"id\":\"4abecd2b-c12e-469a-99f5-189e375af15a\",\"type\":\"CDSView\"}},\"id\":\"ccd61e2e-3e35-4865-8e14-755d93906147\",\"type\":\"GlyphRenderer\"},{\"attributes\":{\"months\":[0,2,4,6,8,10]},\"id\":\"e3a3f142-e746-4b80-bce0-94140d769202\",\"type\":\"MonthsTicker\"},{\"attributes\":{\"source\":{\"id\":\"310138b4-db35-440c-9fd3-3843ce0e2bf8\",\"type\":\"ColumnDataSource\"}},\"id\":\"4abecd2b-c12e-469a-99f5-189e375af15a\",\"type\":\"CDSView\"},{\"attributes\":{\"days\":[1,4,7,10,13,16,19,22,25,28]},\"id\":\"97389aa3-adeb-4ec9-b9a1-fdd9e303df8f\",\"type\":\"DaysTicker\"}],\"root_ids\":[\"5785da84-ba23-41a8-b91a-13f17ffe8cfd\"]},\"title\":\"Bokeh Application\",\"version\":\"0.12.13\"}};\n",
       "  var render_items = [{\"docid\":\"2dcc8b63-97d5-436f-b4c9-5089ae743c30\",\"elementid\":\"1b18c70b-ab6a-4c4e-b54a-91754bdba825\",\"modelid\":\"5785da84-ba23-41a8-b91a-13f17ffe8cfd\"}];\n",
       "  root.Bokeh.embed.embed_items_notebook(docs_json, render_items);\n",
       "\n",
       "  }\n",
       "  if (root.Bokeh !== undefined) {\n",
       "    embed_document(root);\n",
       "  } else {\n",
       "    var attempts = 0;\n",
       "    var timer = setInterval(function(root) {\n",
       "      if (root.Bokeh !== undefined) {\n",
       "        embed_document(root);\n",
       "        clearInterval(timer);\n",
       "      }\n",
       "      attempts++;\n",
       "      if (attempts > 100) {\n",
       "        console.log(\"Bokeh: ERROR: Unable to run BokehJS code because BokehJS library is missing\")\n",
       "        clearInterval(timer);\n",
       "      }\n",
       "    }, 10, root)\n",
       "  }\n",
       "})(window);"
      ],
      "application/vnd.bokehjs_exec.v0+json": ""
     },
     "metadata": {
      "application/vnd.bokehjs_exec.v0+json": {
       "id": "5785da84-ba23-41a8-b91a-13f17ffe8cfd"
      }
     },
     "output_type": "display_data"
    }
   ],
   "source": [
    "show(p1)"
   ]
  },
  {
   "cell_type": "markdown",
   "metadata": {},
   "source": [
    "* Sample: Beijing monthly PM 2.5 levels 2013 and statistical and analysis"
   ]
  },
  {
   "cell_type": "code",
   "execution_count": 138,
   "metadata": {},
   "outputs": [
    {
     "data": {
      "text/html": [
       "<div>\n",
       "<style scoped>\n",
       "    .dataframe tbody tr th:only-of-type {\n",
       "        vertical-align: middle;\n",
       "    }\n",
       "\n",
       "    .dataframe tbody tr th {\n",
       "        vertical-align: top;\n",
       "    }\n",
       "\n",
       "    .dataframe thead th {\n",
       "        text-align: right;\n",
       "    }\n",
       "</style>\n",
       "<table border=\"1\" class=\"dataframe\">\n",
       "  <thead>\n",
       "    <tr style=\"text-align: right;\">\n",
       "      <th></th>\n",
       "      <th>count</th>\n",
       "      <th>mean</th>\n",
       "      <th>std</th>\n",
       "      <th>min</th>\n",
       "      <th>25%</th>\n",
       "      <th>50%</th>\n",
       "      <th>75%</th>\n",
       "      <th>max</th>\n",
       "      <th>month</th>\n",
       "    </tr>\n",
       "    <tr>\n",
       "      <th>update_time</th>\n",
       "      <th></th>\n",
       "      <th></th>\n",
       "      <th></th>\n",
       "      <th></th>\n",
       "      <th></th>\n",
       "      <th></th>\n",
       "      <th></th>\n",
       "      <th></th>\n",
       "      <th></th>\n",
       "    </tr>\n",
       "  </thead>\n",
       "  <tbody>\n",
       "    <tr>\n",
       "      <th>1.0</th>\n",
       "      <td>21.0</td>\n",
       "      <td>198.809524</td>\n",
       "      <td>143.162362</td>\n",
       "      <td>18.0</td>\n",
       "      <td>104.00</td>\n",
       "      <td>174.0</td>\n",
       "      <td>266.00</td>\n",
       "      <td>646.0</td>\n",
       "      <td>1.0</td>\n",
       "    </tr>\n",
       "    <tr>\n",
       "      <th>2.0</th>\n",
       "      <td>28.0</td>\n",
       "      <td>99.392857</td>\n",
       "      <td>81.939607</td>\n",
       "      <td>10.0</td>\n",
       "      <td>31.75</td>\n",
       "      <td>77.5</td>\n",
       "      <td>140.25</td>\n",
       "      <td>280.0</td>\n",
       "      <td>2.0</td>\n",
       "    </tr>\n",
       "    <tr>\n",
       "      <th>3.0</th>\n",
       "      <td>31.0</td>\n",
       "      <td>107.096774</td>\n",
       "      <td>80.669017</td>\n",
       "      <td>6.0</td>\n",
       "      <td>41.00</td>\n",
       "      <td>80.0</td>\n",
       "      <td>168.50</td>\n",
       "      <td>289.0</td>\n",
       "      <td>3.0</td>\n",
       "    </tr>\n",
       "    <tr>\n",
       "      <th>4.0</th>\n",
       "      <td>30.0</td>\n",
       "      <td>56.633333</td>\n",
       "      <td>45.395946</td>\n",
       "      <td>7.0</td>\n",
       "      <td>20.00</td>\n",
       "      <td>46.0</td>\n",
       "      <td>77.50</td>\n",
       "      <td>188.0</td>\n",
       "      <td>4.0</td>\n",
       "    </tr>\n",
       "    <tr>\n",
       "      <th>5.0</th>\n",
       "      <td>31.0</td>\n",
       "      <td>79.935484</td>\n",
       "      <td>51.323117</td>\n",
       "      <td>13.0</td>\n",
       "      <td>47.00</td>\n",
       "      <td>68.0</td>\n",
       "      <td>105.00</td>\n",
       "      <td>258.0</td>\n",
       "      <td>5.0</td>\n",
       "    </tr>\n",
       "    <tr>\n",
       "      <th>6.0</th>\n",
       "      <td>30.0</td>\n",
       "      <td>102.766667</td>\n",
       "      <td>67.574574</td>\n",
       "      <td>8.0</td>\n",
       "      <td>47.25</td>\n",
       "      <td>102.5</td>\n",
       "      <td>131.00</td>\n",
       "      <td>301.0</td>\n",
       "      <td>6.0</td>\n",
       "    </tr>\n",
       "    <tr>\n",
       "      <th>7.0</th>\n",
       "      <td>31.0</td>\n",
       "      <td>67.774194</td>\n",
       "      <td>41.324496</td>\n",
       "      <td>13.0</td>\n",
       "      <td>35.00</td>\n",
       "      <td>57.0</td>\n",
       "      <td>99.50</td>\n",
       "      <td>161.0</td>\n",
       "      <td>7.0</td>\n",
       "    </tr>\n",
       "    <tr>\n",
       "      <th>8.0</th>\n",
       "      <td>31.0</td>\n",
       "      <td>62.548387</td>\n",
       "      <td>43.059524</td>\n",
       "      <td>6.0</td>\n",
       "      <td>29.50</td>\n",
       "      <td>47.0</td>\n",
       "      <td>86.50</td>\n",
       "      <td>167.0</td>\n",
       "      <td>8.0</td>\n",
       "    </tr>\n",
       "    <tr>\n",
       "      <th>9.0</th>\n",
       "      <td>30.0</td>\n",
       "      <td>87.433333</td>\n",
       "      <td>63.731486</td>\n",
       "      <td>16.0</td>\n",
       "      <td>38.50</td>\n",
       "      <td>72.0</td>\n",
       "      <td>101.75</td>\n",
       "      <td>252.0</td>\n",
       "      <td>9.0</td>\n",
       "    </tr>\n",
       "    <tr>\n",
       "      <th>10.0</th>\n",
       "      <td>31.0</td>\n",
       "      <td>91.903226</td>\n",
       "      <td>73.943381</td>\n",
       "      <td>14.0</td>\n",
       "      <td>40.50</td>\n",
       "      <td>65.0</td>\n",
       "      <td>136.00</td>\n",
       "      <td>287.0</td>\n",
       "      <td>10.0</td>\n",
       "    </tr>\n",
       "    <tr>\n",
       "      <th>11.0</th>\n",
       "      <td>30.0</td>\n",
       "      <td>77.866667</td>\n",
       "      <td>64.985268</td>\n",
       "      <td>6.0</td>\n",
       "      <td>27.75</td>\n",
       "      <td>55.5</td>\n",
       "      <td>107.50</td>\n",
       "      <td>247.0</td>\n",
       "      <td>11.0</td>\n",
       "    </tr>\n",
       "    <tr>\n",
       "      <th>12.0</th>\n",
       "      <td>31.0</td>\n",
       "      <td>83.870968</td>\n",
       "      <td>67.544919</td>\n",
       "      <td>11.0</td>\n",
       "      <td>34.00</td>\n",
       "      <td>59.0</td>\n",
       "      <td>121.50</td>\n",
       "      <td>271.0</td>\n",
       "      <td>12.0</td>\n",
       "    </tr>\n",
       "  </tbody>\n",
       "</table>\n",
       "</div>"
      ],
      "text/plain": [
       "             count        mean         std   min     25%    50%     75%  \\\n",
       "update_time                                                               \n",
       "1.0           21.0  198.809524  143.162362  18.0  104.00  174.0  266.00   \n",
       "2.0           28.0   99.392857   81.939607  10.0   31.75   77.5  140.25   \n",
       "3.0           31.0  107.096774   80.669017   6.0   41.00   80.0  168.50   \n",
       "4.0           30.0   56.633333   45.395946   7.0   20.00   46.0   77.50   \n",
       "5.0           31.0   79.935484   51.323117  13.0   47.00   68.0  105.00   \n",
       "6.0           30.0  102.766667   67.574574   8.0   47.25  102.5  131.00   \n",
       "7.0           31.0   67.774194   41.324496  13.0   35.00   57.0   99.50   \n",
       "8.0           31.0   62.548387   43.059524   6.0   29.50   47.0   86.50   \n",
       "9.0           30.0   87.433333   63.731486  16.0   38.50   72.0  101.75   \n",
       "10.0          31.0   91.903226   73.943381  14.0   40.50   65.0  136.00   \n",
       "11.0          30.0   77.866667   64.985268   6.0   27.75   55.5  107.50   \n",
       "12.0          31.0   83.870968   67.544919  11.0   34.00   59.0  121.50   \n",
       "\n",
       "               max  month  \n",
       "update_time                \n",
       "1.0          646.0    1.0  \n",
       "2.0          280.0    2.0  \n",
       "3.0          289.0    3.0  \n",
       "4.0          188.0    4.0  \n",
       "5.0          258.0    5.0  \n",
       "6.0          301.0    6.0  \n",
       "7.0          161.0    7.0  \n",
       "8.0          167.0    8.0  \n",
       "9.0          252.0    9.0  \n",
       "10.0         287.0   10.0  \n",
       "11.0         247.0   11.0  \n",
       "12.0         271.0   12.0  "
      ]
     },
     "execution_count": 138,
     "metadata": {},
     "output_type": "execute_result"
    }
   ],
   "source": [
    "data_bp = ap_2013.groupby(ap_2013[ap_2013_new['city'] == '北京']['update_time'].dt.month)\\\n",
    "['pm25'].describe()\n",
    "\n",
    "data_bp['month'] = data_bp.index\n",
    "\n",
    "data_bp"
   ]
  },
  {
   "cell_type": "code",
   "execution_count": 149,
   "metadata": {},
   "outputs": [
    {
     "data": {
      "application/vnd.plotly.v1+json": {
       "data": [
        {
         "marker": {
          "color": "rgb(158,202,225)",
          "line": {
           "color": "rgb(8,48,107)",
           "width": 1.5
          }
         },
         "opacity": 0.6,
         "type": "bar",
         "x": [
          1,
          2,
          3,
          4,
          5,
          6,
          7,
          8,
          9,
          10,
          11,
          12
         ],
         "y": [
          198.8095238095238,
          99.39285714285714,
          107.09677419354838,
          56.63333333333333,
          79.93548387096774,
          102.76666666666667,
          67.7741935483871,
          62.54838709677419,
          87.43333333333334,
          91.90322580645162,
          77.86666666666666,
          83.87096774193549
         ]
        }
       ],
       "layout": {
        "title": "Beijing PM 2.5, Monthly Average (2013)"
       }
      },
      "text/html": [
       "<div id=\"a541de8b-4eb1-41cc-917d-011ddc362f0b\" style=\"height: 525px; width: 100%;\" class=\"plotly-graph-div\"></div><script type=\"text/javascript\">require([\"plotly\"], function(Plotly) { window.PLOTLYENV=window.PLOTLYENV || {};window.PLOTLYENV.BASE_URL=\"https://plot.ly\";Plotly.newPlot(\"a541de8b-4eb1-41cc-917d-011ddc362f0b\", [{\"type\": \"bar\", \"x\": [1.0, 2.0, 3.0, 4.0, 5.0, 6.0, 7.0, 8.0, 9.0, 10.0, 11.0, 12.0], \"y\": [198.8095238095238, 99.39285714285714, 107.09677419354838, 56.63333333333333, 79.93548387096774, 102.76666666666667, 67.7741935483871, 62.54838709677419, 87.43333333333334, 91.90322580645162, 77.86666666666666, 83.87096774193549], \"marker\": {\"color\": \"rgb(158,202,225)\", \"line\": {\"color\": \"rgb(8,48,107)\", \"width\": 1.5}}, \"opacity\": 0.6}], {\"title\": \"Beijing PM 2.5, Monthly Average (2013)\"}, {\"showLink\": true, \"linkText\": \"Export to plot.ly\"})});</script>"
      ],
      "text/vnd.plotly.v1+html": [
       "<div id=\"a541de8b-4eb1-41cc-917d-011ddc362f0b\" style=\"height: 525px; width: 100%;\" class=\"plotly-graph-div\"></div><script type=\"text/javascript\">require([\"plotly\"], function(Plotly) { window.PLOTLYENV=window.PLOTLYENV || {};window.PLOTLYENV.BASE_URL=\"https://plot.ly\";Plotly.newPlot(\"a541de8b-4eb1-41cc-917d-011ddc362f0b\", [{\"type\": \"bar\", \"x\": [1.0, 2.0, 3.0, 4.0, 5.0, 6.0, 7.0, 8.0, 9.0, 10.0, 11.0, 12.0], \"y\": [198.8095238095238, 99.39285714285714, 107.09677419354838, 56.63333333333333, 79.93548387096774, 102.76666666666667, 67.7741935483871, 62.54838709677419, 87.43333333333334, 91.90322580645162, 77.86666666666666, 83.87096774193549], \"marker\": {\"color\": \"rgb(158,202,225)\", \"line\": {\"color\": \"rgb(8,48,107)\", \"width\": 1.5}}, \"opacity\": 0.6}], {\"title\": \"Beijing PM 2.5, Monthly Average (2013)\"}, {\"showLink\": true, \"linkText\": \"Export to plot.ly\"})});</script>"
      ]
     },
     "metadata": {},
     "output_type": "display_data"
    }
   ],
   "source": [
    "pm_bar = [go.Bar(\n",
    "    x = data_bp['month'],\n",
    "    y = data_bp['mean'],\n",
    "    marker=dict(\n",
    "        color='rgb(158,202,225)',\n",
    "        line=dict(\n",
    "            color='rgb(8,48,107)',\n",
    "            width=1.5),\n",
    "        ),\n",
    "    opacity=0.6\n",
    ")]\n",
    "\n",
    "layout = go.Layout(\n",
    "    title= 'Beijing PM 2.5, Monthly Average (2013)'\n",
    ")\n",
    "\n",
    "fig = go.Figure(data=pm_bar, layout = layout)\n",
    "\n",
    "iplot(fig, filename = 'basic-bar')"
   ]
  },
  {
   "cell_type": "code",
   "execution_count": 207,
   "metadata": {},
   "outputs": [
    {
     "data": {
      "application/vnd.plotly.v1+json": {
       "data": [
        {
         "type": "box",
         "y": [
          null,
          null,
          null,
          null,
          null,
          null,
          null,
          null,
          null,
          null,
          266,
          646,
          327,
          208,
          90,
          104,
          51,
          182,
          174,
          88,
          113,
          136,
          307,
          18,
          52,
          123,
          240,
          329,
          355,
          240,
          126
         ]
        },
        {
         "type": "box",
         "y": [
          14,
          59,
          189,
          22,
          102,
          12,
          10,
          73,
          195,
          28,
          82,
          102,
          280,
          40,
          47,
          124,
          39,
          23,
          33,
          65,
          197,
          16,
          110,
          279,
          107,
          209,
          119,
          207
         ]
        },
        {
         "type": "box",
         "y": [
          12,
          31,
          79,
          21,
          130,
          203,
          236,
          188,
          56,
          37,
          124,
          126,
          15,
          149,
          206,
          234,
          289,
          68,
          37,
          45,
          133,
          59,
          6,
          52,
          112,
          202,
          8,
          80,
          67,
          90,
          225
         ]
        },
        {
         "type": "box",
         "y": [
          11,
          125,
          46,
          81,
          7,
          37,
          87,
          19,
          13,
          20,
          42,
          76,
          9,
          63,
          52,
          54,
          46,
          10,
          43,
          71,
          116,
          161,
          188,
          78,
          12,
          62,
          91,
          20,
          22,
          37
         ]
        },
        {
         "type": "box",
         "y": [
          60,
          93,
          78,
          80,
          258,
          134,
          179,
          59,
          68,
          45,
          28,
          52,
          129,
          45,
          43,
          78,
          138,
          49,
          21,
          57,
          128,
          38,
          121,
          33,
          79,
          51,
          79,
          71,
          13,
          54,
          117
         ]
        },
        {
         "type": "box",
         "y": [
          30,
          190,
          86,
          98,
          164,
          124,
          125,
          178,
          8,
          22,
          54,
          66,
          107,
          119,
          133,
          171,
          27,
          40,
          39,
          54,
          42,
          48,
          47,
          119,
          123,
          144,
          83,
          301,
          113,
          228
         ]
        },
        {
         "type": "box",
         "y": [
          161,
          14,
          33,
          21,
          19,
          62,
          104,
          88,
          57,
          27,
          36,
          76,
          122,
          112,
          44,
          13,
          42,
          159,
          130,
          73,
          74,
          95,
          44,
          32,
          34,
          54,
          110,
          43,
          60,
          105,
          57
         ]
        },
        {
         "type": "box",
         "y": [
          37,
          80,
          34,
          81,
          41,
          134,
          29,
          32,
          37,
          93,
          142,
          47,
          84,
          89,
          167,
          126,
          12,
          20,
          25,
          82,
          78,
          109,
          22,
          30,
          34,
          74,
          70,
          98,
          6,
          9,
          17
         ]
        },
        {
         "type": "box",
         "y": [
          43,
          74,
          103,
          60,
          36,
          90,
          54,
          143,
          91,
          31,
          87,
          172,
          94,
          23,
          33,
          56,
          96,
          98,
          123,
          40,
          38,
          70,
          16,
          20,
          21,
          63,
          252,
          232,
          216,
          148
         ]
        },
        {
         "type": "box",
         "y": [
          57,
          14,
          72,
          166,
          287,
          186,
          74,
          60,
          140,
          65,
          54,
          60,
          46,
          24,
          21,
          48,
          132,
          213,
          39,
          26,
          84,
          123,
          23,
          22,
          42,
          65,
          181,
          267,
          25,
          86,
          147
         ]
        },
        {
         "type": "box",
         "y": [
          190,
          247,
          26,
          44,
          151,
          83,
          40,
          133,
          86,
          24,
          41,
          56,
          167,
          55,
          108,
          24,
          12,
          12,
          40,
          69,
          106,
          155,
          207,
          63,
          18,
          11,
          6,
          41,
          88,
          33
         ]
        }
       ],
       "layout": {}
      },
      "text/html": [
       "<div id=\"e93d9cab-b790-41e6-ab1b-3df648a29e8a\" style=\"height: 525px; width: 100%;\" class=\"plotly-graph-div\"></div><script type=\"text/javascript\">require([\"plotly\"], function(Plotly) { window.PLOTLYENV=window.PLOTLYENV || {};window.PLOTLYENV.BASE_URL=\"https://plot.ly\";Plotly.newPlot(\"e93d9cab-b790-41e6-ab1b-3df648a29e8a\", [{\"type\": \"box\", \"y\": [null, null, null, null, null, null, null, null, null, null, 266.0, 646.0, 327.0, 208.0, 90.0, 104.0, 51.0, 182.0, 174.0, 88.0, 113.0, 136.0, 307.0, 18.0, 52.0, 123.0, 240.0, 329.0, 355.0, 240.0, 126.0]}, {\"type\": \"box\", \"y\": [14.0, 59.0, 189.0, 22.0, 102.0, 12.0, 10.0, 73.0, 195.0, 28.0, 82.0, 102.0, 280.0, 40.0, 47.0, 124.0, 39.0, 23.0, 33.0, 65.0, 197.0, 16.0, 110.0, 279.0, 107.0, 209.0, 119.0, 207.0]}, {\"type\": \"box\", \"y\": [12.0, 31.0, 79.0, 21.0, 130.0, 203.0, 236.0, 188.0, 56.0, 37.0, 124.0, 126.0, 15.0, 149.0, 206.0, 234.0, 289.0, 68.0, 37.0, 45.0, 133.0, 59.0, 6.0, 52.0, 112.0, 202.0, 8.0, 80.0, 67.0, 90.0, 225.0]}, {\"type\": \"box\", \"y\": [11.0, 125.0, 46.0, 81.0, 7.0, 37.0, 87.0, 19.0, 13.0, 20.0, 42.0, 76.0, 9.0, 63.0, 52.0, 54.0, 46.0, 10.0, 43.0, 71.0, 116.0, 161.0, 188.0, 78.0, 12.0, 62.0, 91.0, 20.0, 22.0, 37.0]}, {\"type\": \"box\", \"y\": [60.0, 93.0, 78.0, 80.0, 258.0, 134.0, 179.0, 59.0, 68.0, 45.0, 28.0, 52.0, 129.0, 45.0, 43.0, 78.0, 138.0, 49.0, 21.0, 57.0, 128.0, 38.0, 121.0, 33.0, 79.0, 51.0, 79.0, 71.0, 13.0, 54.0, 117.0]}, {\"type\": \"box\", \"y\": [30.0, 190.0, 86.0, 98.0, 164.0, 124.0, 125.0, 178.0, 8.0, 22.0, 54.0, 66.0, 107.0, 119.0, 133.0, 171.0, 27.0, 40.0, 39.0, 54.0, 42.0, 48.0, 47.0, 119.0, 123.0, 144.0, 83.0, 301.0, 113.0, 228.0]}, {\"type\": \"box\", \"y\": [161.0, 14.0, 33.0, 21.0, 19.0, 62.0, 104.0, 88.0, 57.0, 27.0, 36.0, 76.0, 122.0, 112.0, 44.0, 13.0, 42.0, 159.0, 130.0, 73.0, 74.0, 95.0, 44.0, 32.0, 34.0, 54.0, 110.0, 43.0, 60.0, 105.0, 57.0]}, {\"type\": \"box\", \"y\": [37.0, 80.0, 34.0, 81.0, 41.0, 134.0, 29.0, 32.0, 37.0, 93.0, 142.0, 47.0, 84.0, 89.0, 167.0, 126.0, 12.0, 20.0, 25.0, 82.0, 78.0, 109.0, 22.0, 30.0, 34.0, 74.0, 70.0, 98.0, 6.0, 9.0, 17.0]}, {\"type\": \"box\", \"y\": [43.0, 74.0, 103.0, 60.0, 36.0, 90.0, 54.0, 143.0, 91.0, 31.0, 87.0, 172.0, 94.0, 23.0, 33.0, 56.0, 96.0, 98.0, 123.0, 40.0, 38.0, 70.0, 16.0, 20.0, 21.0, 63.0, 252.0, 232.0, 216.0, 148.0]}, {\"type\": \"box\", \"y\": [57.0, 14.0, 72.0, 166.0, 287.0, 186.0, 74.0, 60.0, 140.0, 65.0, 54.0, 60.0, 46.0, 24.0, 21.0, 48.0, 132.0, 213.0, 39.0, 26.0, 84.0, 123.0, 23.0, 22.0, 42.0, 65.0, 181.0, 267.0, 25.0, 86.0, 147.0]}, {\"type\": \"box\", \"y\": [190.0, 247.0, 26.0, 44.0, 151.0, 83.0, 40.0, 133.0, 86.0, 24.0, 41.0, 56.0, 167.0, 55.0, 108.0, 24.0, 12.0, 12.0, 40.0, 69.0, 106.0, 155.0, 207.0, 63.0, 18.0, 11.0, 6.0, 41.0, 88.0, 33.0]}], {}, {\"showLink\": true, \"linkText\": \"Export to plot.ly\"})});</script>"
      ],
      "text/vnd.plotly.v1+html": [
       "<div id=\"e93d9cab-b790-41e6-ab1b-3df648a29e8a\" style=\"height: 525px; width: 100%;\" class=\"plotly-graph-div\"></div><script type=\"text/javascript\">require([\"plotly\"], function(Plotly) { window.PLOTLYENV=window.PLOTLYENV || {};window.PLOTLYENV.BASE_URL=\"https://plot.ly\";Plotly.newPlot(\"e93d9cab-b790-41e6-ab1b-3df648a29e8a\", [{\"type\": \"box\", \"y\": [null, null, null, null, null, null, null, null, null, null, 266.0, 646.0, 327.0, 208.0, 90.0, 104.0, 51.0, 182.0, 174.0, 88.0, 113.0, 136.0, 307.0, 18.0, 52.0, 123.0, 240.0, 329.0, 355.0, 240.0, 126.0]}, {\"type\": \"box\", \"y\": [14.0, 59.0, 189.0, 22.0, 102.0, 12.0, 10.0, 73.0, 195.0, 28.0, 82.0, 102.0, 280.0, 40.0, 47.0, 124.0, 39.0, 23.0, 33.0, 65.0, 197.0, 16.0, 110.0, 279.0, 107.0, 209.0, 119.0, 207.0]}, {\"type\": \"box\", \"y\": [12.0, 31.0, 79.0, 21.0, 130.0, 203.0, 236.0, 188.0, 56.0, 37.0, 124.0, 126.0, 15.0, 149.0, 206.0, 234.0, 289.0, 68.0, 37.0, 45.0, 133.0, 59.0, 6.0, 52.0, 112.0, 202.0, 8.0, 80.0, 67.0, 90.0, 225.0]}, {\"type\": \"box\", \"y\": [11.0, 125.0, 46.0, 81.0, 7.0, 37.0, 87.0, 19.0, 13.0, 20.0, 42.0, 76.0, 9.0, 63.0, 52.0, 54.0, 46.0, 10.0, 43.0, 71.0, 116.0, 161.0, 188.0, 78.0, 12.0, 62.0, 91.0, 20.0, 22.0, 37.0]}, {\"type\": \"box\", \"y\": [60.0, 93.0, 78.0, 80.0, 258.0, 134.0, 179.0, 59.0, 68.0, 45.0, 28.0, 52.0, 129.0, 45.0, 43.0, 78.0, 138.0, 49.0, 21.0, 57.0, 128.0, 38.0, 121.0, 33.0, 79.0, 51.0, 79.0, 71.0, 13.0, 54.0, 117.0]}, {\"type\": \"box\", \"y\": [30.0, 190.0, 86.0, 98.0, 164.0, 124.0, 125.0, 178.0, 8.0, 22.0, 54.0, 66.0, 107.0, 119.0, 133.0, 171.0, 27.0, 40.0, 39.0, 54.0, 42.0, 48.0, 47.0, 119.0, 123.0, 144.0, 83.0, 301.0, 113.0, 228.0]}, {\"type\": \"box\", \"y\": [161.0, 14.0, 33.0, 21.0, 19.0, 62.0, 104.0, 88.0, 57.0, 27.0, 36.0, 76.0, 122.0, 112.0, 44.0, 13.0, 42.0, 159.0, 130.0, 73.0, 74.0, 95.0, 44.0, 32.0, 34.0, 54.0, 110.0, 43.0, 60.0, 105.0, 57.0]}, {\"type\": \"box\", \"y\": [37.0, 80.0, 34.0, 81.0, 41.0, 134.0, 29.0, 32.0, 37.0, 93.0, 142.0, 47.0, 84.0, 89.0, 167.0, 126.0, 12.0, 20.0, 25.0, 82.0, 78.0, 109.0, 22.0, 30.0, 34.0, 74.0, 70.0, 98.0, 6.0, 9.0, 17.0]}, {\"type\": \"box\", \"y\": [43.0, 74.0, 103.0, 60.0, 36.0, 90.0, 54.0, 143.0, 91.0, 31.0, 87.0, 172.0, 94.0, 23.0, 33.0, 56.0, 96.0, 98.0, 123.0, 40.0, 38.0, 70.0, 16.0, 20.0, 21.0, 63.0, 252.0, 232.0, 216.0, 148.0]}, {\"type\": \"box\", \"y\": [57.0, 14.0, 72.0, 166.0, 287.0, 186.0, 74.0, 60.0, 140.0, 65.0, 54.0, 60.0, 46.0, 24.0, 21.0, 48.0, 132.0, 213.0, 39.0, 26.0, 84.0, 123.0, 23.0, 22.0, 42.0, 65.0, 181.0, 267.0, 25.0, 86.0, 147.0]}, {\"type\": \"box\", \"y\": [190.0, 247.0, 26.0, 44.0, 151.0, 83.0, 40.0, 133.0, 86.0, 24.0, 41.0, 56.0, 167.0, 55.0, 108.0, 24.0, 12.0, 12.0, 40.0, 69.0, 106.0, 155.0, 207.0, 63.0, 18.0, 11.0, 6.0, 41.0, 88.0, 33.0]}], {}, {\"showLink\": true, \"linkText\": \"Export to plot.ly\"})});</script>"
      ]
     },
     "metadata": {},
     "output_type": "display_data"
    }
   ],
   "source": [
    "month = ['January', 'February', 'March', 'April', 'May', \n",
    "         'June', 'July', 'August', 'September', 'October', \n",
    "         'November', 'December']\n",
    "\n",
    "traces = []\n",
    "\n",
    "for x in range(1,12):\n",
    "    traces.append(go.Box(\n",
    "        y = ap_2013_new[(ap_2013_new['city'] == '北京') &\\\n",
    "            (ap_2013_new['update_time'].dt.month == x)]['pm25']\n",
    "    ))\n",
    "    \n",
    "    \n",
    "iplot(traces, filename='pandas-box-plot')"
   ]
  },
  {
   "cell_type": "code",
   "execution_count": null,
   "metadata": {},
   "outputs": [],
   "source": []
  }
 ],
 "metadata": {
  "anaconda-cloud": {},
  "kernelspec": {
   "display_name": "Python 3",
   "language": "python",
   "name": "python3"
  },
  "language_info": {
   "codemirror_mode": {
    "name": "ipython",
    "version": 3
   },
   "file_extension": ".py",
   "mimetype": "text/x-python",
   "name": "python",
   "nbconvert_exporter": "python",
   "pygments_lexer": "ipython3",
   "version": "3.6.1"
  }
 },
 "nbformat": 4,
 "nbformat_minor": 1
}
